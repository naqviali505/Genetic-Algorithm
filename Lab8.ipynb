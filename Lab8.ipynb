{
  "cells": [
    {
      "cell_type": "markdown",
      "metadata": {
        "id": "U6k7lYnZ3clC"
      },
      "source": [
        "Genetic Algorithm"
      ]
    },
    {
      "cell_type": "code",
      "execution_count": null,
      "metadata": {
        "id": "tGVaJS0W3ayk"
      },
      "outputs": [],
      "source": [
        "import random"
      ]
    },
    {
      "cell_type": "markdown",
      "metadata": {
        "id": "QxWWUHUx3sM4"
      },
      "source": [
        "Let say we have fucntion that evaluates the expression to 0 if the answer of expression \" 6 * x ** 3 + 9 * y ** 2 + 90 * z \" is 25. \n",
        "So That's mean we need the most suitable values of x, y and z so that we could achive our target value whichis 25 in this case. "
      ]
    },
    {
      "cell_type": "code",
      "execution_count": null,
      "metadata": {
        "id": "a7BY0jfW3k0_"
      },
      "outputs": [],
      "source": [
        "def evaluateExpression(x, y, z):\n",
        "\treturn 6 * x ** 3 + 9 * y ** 2 + 90 * z - 25"
      ]
    },
    {
      "cell_type": "markdown",
      "metadata": {
        "id": "wFSAohyg4s_Y"
      },
      "source": [
        "Let's write the solution based on Genetic Algorithm technique to find the most suitable values of x, y and z. "
      ]
    },
    {
      "cell_type": "markdown",
      "metadata": {
        "id": "Kqovna8D5HOH"
      },
      "source": [
        "*Step1* : Population of Solutions: \n",
        "Population is generated entirely from random numbers let say upto 1000 indivuduals. "
      ]
    },
    {
      "cell_type": "code",
      "execution_count": null,
      "metadata": {
        "id": "ujH6YRGj45L1"
      },
      "outputs": [],
      "source": [
        "# generate solutions\n",
        "solutions = []\n",
        "for counter in range(1000):\n",
        "\tsolutions.append((random.uniform(0, 1000), random.uniform(0, 1000), random.uniform(0, 1000)))\n"
      ]
    },
    {
      "cell_type": "markdown",
      "metadata": {
        "id": "WaGcxE1g5XDe"
      },
      "source": [
        "Step2: Fitness fucntion: \n",
        "So the most fittest solution will be the one which evalutes the expression to \"0\". Otherwise the best solution will be closest to zero. \n",
        "So the fittness in this case can be seen if the solution is closest to zero. Hnece we can return highest fitness value to those solution which are closest to zero. "
      ]
    },
    {
      "cell_type": "code",
      "execution_count": null,
      "metadata": {
        "id": "13HwHogg5eYF"
      },
      "outputs": [],
      "source": [
        "def fitness(x, y, z):\n",
        "\tans = evaluateExpression(x, y, z)\n",
        "\n",
        "\tif ans == 0:\n",
        "\t\treturn 99999\n",
        "\telse:\n",
        "\t\treturn abs(1 / ans)\n"
      ]
    },
    {
      "cell_type": "markdown",
      "metadata": {
        "id": "301_DByz6mIG"
      },
      "source": [
        "Step3: Mating, Crossover or Generating the Genrations: \n",
        "During each generations further sub steps are performed like : \n",
        "Step 3.1: Selection of top ranked solutions \n",
        "Step 3.2: Mutation or slight changes or variation in values of solution. \n",
        "P.S(Here for the sake of anology if solution can be considered as chromosome then vatiable values can be considered as genes)\n",
        " "
      ]
    },
    {
      "cell_type": "code",
      "execution_count": null,
      "metadata": {
        "colab": {
          "base_uri": "https://localhost:8080/"
        },
        "id": "naXvB6VE7_-7",
        "outputId": "44e79394-ac75-4ebf-cc0f-b10bdd663109"
      },
      "outputs": [
        {
          "name": "stdout",
          "output_type": "stream",
          "text": [
            "=== Generation 0 best solutions ====\n",
            "(9.591764384289346e-06, (19.08245609385084, 33.73630904539326, 581.6192254408421))\n",
            "=== Generation 1 best solutions ====\n",
            "(0.00015152767619622853, (2.700584543617294, 13.670686828075544, 53.60322938227397))\n",
            "=== Generation 2 best solutions ====\n",
            "(0.0015841644985477982, (2.2026042652267055, 6.605263879123502, 2.216298063446873))\n",
            "=== Generation 3 best solutions ====\n",
            "(0.09363145225067632, (0.1569165308232094, 0.15544706957815724, 0.156435240995049))\n",
            "=== Generation 4 best solutions ====\n",
            "(0.09407023029850628, (0.15639366501325194, 0.15254850186435234, 0.15708059566258348))\n",
            "=== Generation 5 best solutions ====\n",
            "(0.09660841151599074, (0.15396019712702405, 0.15159992898573324, 0.16022438899660835))\n",
            "=== Generation 6 best solutions ====\n",
            "(0.0981636816668312, (0.15488667293432204, 0.15492641272322533, 0.16194021115215074))\n",
            "=== Generation 7 best solutions ====\n",
            "(0.09897846249289531, (0.15720376181767126, 0.15462233223264638, 0.1628701052087706))\n",
            "=== Generation 8 best solutions ====\n",
            "(0.10037602381026572, (0.1579941005036108, 0.15628971837081354, 0.164377333455993))\n",
            "=== Generation 9 best solutions ====\n",
            "(0.10199090653460258, (0.1625098509312541, 0.15906028562883992, 0.1660194663495003))\n",
            "=== Generation 10 best solutions ====\n",
            "(0.10341243975185616, (0.16424493405064441, 0.1619824976257409, 0.16741393445590927))\n",
            "=== Generation 11 best solutions ====\n",
            "(0.10450131235900595, (0.16020526227860257, 0.16335010783551218, 0.16851024620982655))\n",
            "=== Generation 12 best solutions ====\n",
            "(0.10611931414454698, (0.16699443575645245, 0.1673026154165823, 0.16996434713345995))\n",
            "=== Generation 13 best solutions ====\n",
            "(0.10779937311308672, (0.1672239524111678, 0.16617961563763012, 0.17163233190541963))\n",
            "=== Generation 14 best solutions ====\n",
            "(0.10945898841044863, (0.1697296284869298, 0.17027153993277985, 0.17304321181640459))\n",
            "=== Generation 15 best solutions ====\n",
            "(0.11108337397662367, (0.1714671572084839, 0.16656772809430248, 0.1746422404199597))\n",
            "=== Generation 16 best solutions ====\n",
            "(0.11304570512940691, (0.16979076948456473, 0.17030471027501337, 0.1762624207943611))\n",
            "=== Generation 17 best solutions ====\n",
            "(0.11493161553405408, (0.16868279373520723, 0.16904448884511866, 0.17792434959634348))\n",
            "=== Generation 18 best solutions ====\n",
            "(0.117178480567143, (0.1726445667424847, 0.1729648333502575, 0.179620923593973))\n",
            "=== Generation 19 best solutions ====\n",
            "(0.11894519242248366, (0.17732607242449824, 0.170452175454952, 0.18108694933742306))\n",
            "=== Generation 20 best solutions ====\n",
            "(0.12080107427940658, (0.1783121642160659, 0.16957658806488113, 0.18254561214996456))\n",
            "=== Generation 21 best solutions ====\n",
            "(0.12358568690234893, (0.18113502107192583, 0.18091614729145294, 0.1842023788787349))\n",
            "=== Generation 22 best solutions ====\n",
            "(0.125078717865898, (0.17408346831918659, 0.18050527727076085, 0.18533490803682867))\n",
            "=== Generation 23 best solutions ====\n",
            "(0.1277583181584615, (0.18166697658095637, 0.18563704425108082, 0.18696219760635016))\n",
            "=== Generation 24 best solutions ====\n",
            "(0.12993240113082147, (0.17880075933804915, 0.18401897885378493, 0.18849584644657685))\n",
            "=== Generation 25 best solutions ====\n",
            "(0.13171578348601032, (0.1812798579216646, 0.17817132017329407, 0.18984940595892633))\n",
            "=== Generation 26 best solutions ====\n",
            "(0.13463370918518436, (0.18620337260538755, 0.18745155345034378, 0.19130512185013135))\n",
            "=== Generation 27 best solutions ====\n",
            "(0.1370078769785004, (0.1910135392669557, 0.18702879143529053, 0.19271683940436443))\n",
            "=== Generation 28 best solutions ====\n",
            "(0.140184026815702, (0.19029581303403942, 0.187978131025871, 0.19452390151529733))\n",
            "=== Generation 29 best solutions ====\n",
            "(0.14372366359935346, (0.19316411615872947, 0.1928904808076092, 0.19626776015510483))\n",
            "=== Generation 30 best solutions ====\n",
            "(0.14548499289331346, (0.1925739692868457, 0.19632564727957746, 0.19707439613192823))\n",
            "=== Generation 31 best solutions ====\n",
            "(0.1485935704328645, (0.19771186675186359, 0.19483570430665945, 0.19869126481012028))\n",
            "=== Generation 32 best solutions ====\n",
            "(0.15268367015251857, (0.19676769504954922, 0.1996474108732195, 0.20051187967710646))\n",
            "=== Generation 33 best solutions ====\n",
            "(0.1563907544498752, (0.1984810836081052, 0.1983511952328966, 0.20227507420869548))\n",
            "=== Generation 34 best solutions ====\n",
            "(0.16041447973199366, (0.19930998013875073, 0.19782891715298187, 0.20407130399106518))\n",
            "=== Generation 35 best solutions ====\n",
            "(0.16357338868151552, (0.20136822295411785, 0.2019597450477809, 0.20522727353550974))\n",
            "=== Generation 36 best solutions ====\n",
            "(0.16805622269581183, (0.20084619390018704, 0.20352399144927782, 0.20698000468464325))\n",
            "=== Generation 37 best solutions ====\n",
            "(0.17258641814509965, (0.20754431043415955, 0.20186865255854666, 0.20872670380331895))\n",
            "=== Generation 38 best solutions ====\n",
            "(0.17679331200087572, (0.20568542473441706, 0.20725876861002407, 0.21005400761681792))\n",
            "=== Generation 39 best solutions ====\n",
            "(0.18189412741535058, (0.20498787528679693, 0.20810268918492636, 0.21178726947879095))\n",
            "=== Generation 40 best solutions ====\n",
            "(0.188026130452604, (0.2098171674226164, 0.2088536987783607, 0.21370656086383508))\n",
            "=== Generation 41 best solutions ====\n",
            "(0.19481771731993025, (0.20392738530650412, 0.20963967823541, 0.2157841540761462))\n",
            "=== Generation 42 best solutions ====\n",
            "(0.19961952161244742, (0.20993744249305327, 0.2142777542293384, 0.21690798833427796))\n",
            "=== Generation 43 best solutions ====\n",
            "(0.20655456576918835, (0.20898380549607296, 0.21127596468362247, 0.2189129247349614))\n",
            "=== Generation 44 best solutions ====\n",
            "(0.21466329239047816, (0.21652183119972426, 0.21944468625857128, 0.22052480528312107))\n",
            "=== Generation 45 best solutions ====\n",
            "(0.22327447946380324, (0.20914776952125946, 0.2216391960137674, 0.2224911127434241))\n",
            "=== Generation 46 best solutions ====\n",
            "(0.23105936846901387, (0.2214573377095395, 0.22006193655233452, 0.22412329557706132))\n",
            "=== Generation 47 best solutions ====\n",
            "(0.24116535783577986, (0.22253037535309783, 0.22078409448570105, 0.2260959890333223))\n",
            "=== Generation 48 best solutions ====\n",
            "(0.25234037928838354, (0.22265154183599753, 0.221940968753388, 0.22808391831991043))\n",
            "=== Generation 49 best solutions ====\n",
            "(0.26393197819777797, (0.2266699960817694, 0.2278667290097015, 0.22971065454942033))\n",
            "=== Generation 50 best solutions ====\n",
            "(0.2757540019294519, (0.22678311018896827, 0.22808400831873724, 0.2315044113483319))\n",
            "=== Generation 51 best solutions ====\n",
            "(0.289938124029761, (0.22857303792581496, 0.23011831901824858, 0.2333638512460347))\n",
            "=== Generation 52 best solutions ====\n",
            "(0.3051187802598623, (0.2272731817484792, 0.23234465882233832, 0.2351810588078321))\n",
            "=== Generation 53 best solutions ====\n",
            "(0.32372009729486645, (0.23224807592467508, 0.22858651275496342, 0.23739424265182907))\n",
            "=== Generation 54 best solutions ====\n",
            "(0.3434627445304376, (0.2356479637044521, 0.23689732268361827, 0.23894310955458625))\n",
            "=== Generation 55 best solutions ====\n",
            "(0.3643416424172584, (0.23551932532221448, 0.23823276992693765, 0.24073494494506512))\n",
            "=== Generation 56 best solutions ====\n",
            "(0.393084067913989, (0.2403971791851818, 0.24139001320085485, 0.24275818007302913))\n",
            "=== Generation 57 best solutions ====\n",
            "(0.4201438358706748, (0.2321519607752349, 0.24318173088146494, 0.24458395798848712))\n",
            "=== Generation 58 best solutions ====\n",
            "(0.4621828007801683, (0.23187684483580398, 0.24159711353781713, 0.2470691965450519))\n",
            "=== Generation 59 best solutions ====\n",
            "(0.5025595384447565, (0.24392188520497296, 0.2425885191567361, 0.24881629205481853))\n",
            "=== Generation 60 best solutions ====\n",
            "(0.5480846768672971, (0.23663449522996005, 0.24395047719339508, 0.2506706060425843))\n",
            "=== Generation 61 best solutions ====\n",
            "(0.6454309124715398, (0.24653048298524574, 0.24296785926805814, 0.2536605151015565))\n",
            "=== Generation 62 best solutions ====\n",
            "(0.7281222257576616, (0.24268390033948578, 0.24969072133978756, 0.2553304133348253))\n",
            "=== Generation 63 best solutions ====\n",
            "(0.8799139869400575, (0.24914726975849041, 0.25126418565868164, 0.25780586795905686))\n",
            "=== Generation 64 best solutions ====\n",
            "(1.1008977802956887, (0.2542045786396565, 0.2517203864659232, 0.26025357695821894))\n",
            "=== Generation 65 best solutions ====\n",
            "(1.3866186066143138, (0.2486112779512676, 0.2590654492341999, 0.2620287849528089))\n",
            "=== Generation 66 best solutions ====\n",
            "(1.9377214096534354, (0.2592531728280404, 0.2574627452284884, 0.26425329430045646))\n",
            "=== Generation 67 best solutions ====\n",
            "(3.1257174866538384, (0.25850845224769753, 0.2627572398381633, 0.26616721859480197))\n",
            "=== Generation 68 best solutions ====\n",
            "(5.173714536843169, (0.2609960421360251, 0.2639696702522109, 0.267476919544536))\n",
            "=== Generation 69 best solutions ====\n",
            "(127.52303223052918, (0.26740929298616184, 0.2655607722122061, 0.2695378668661297))\n",
            "=== Generation 70 best solutions ====\n",
            "(26648.62039686053, (0.26892981646950814, 0.26363783919357964, 0.26953104521291793))\n"
          ]
        }
      ],
      "source": [
        "for generation_count in range(10000):\n",
        "\trankedSolutions = []\n",
        "  # fitness step\n",
        "\tfor solution in solutions:\n",
        "\t\trankedSolutions.append((fitness(solution[0], solution[1], solution[2]), solution))\n",
        "\trankedSolutions.sort()\n",
        "\trankedSolutions.reverse()\n",
        "\tprint(f\"=== Generation {generation_count} best solutions ====\")\n",
        "\tprint(rankedSolutions[0])\n",
        "\n",
        "\tif rankedSolutions[0][0] > 999:\n",
        "\t\tbreak\n",
        "\n",
        "\tbestSolution = rankedSolutions[:100]\n",
        "\t# print(bestSolution)\n",
        "\n",
        "  # selection step\n",
        "\tvariables = []\n",
        "\tfor solution in bestSolution:\n",
        "\t\tvariables.append(solution[1][0])  # variable x\n",
        "\t\tvariables.append(solution[1][1])  # variable y\n",
        "\t\tvariables.append(solution[1][2])  # variable z\n",
        "\n",
        "\tnewGeneration = []\n",
        "  # mutation step\n",
        "\tfor counter in range(1000):\n",
        "\t\tx = random.choice(variables) * random.uniform(0.99, 1.01)\n",
        "\t\ty = random.choice(variables) * random.uniform(0.99, 1.01)\n",
        "\t\tz = random.choice(variables) * random.uniform(0.99, 1.01)\n",
        "\n",
        "\t\tnewGeneration.append((x, y, z))\n",
        "\n",
        "\tsolutions = newGeneration\n"
      ]
    }
  ],
  "metadata": {
    "colab": {
      "collapsed_sections": [],
      "name": "CL461_AI_6A_Lab_7_Problem_Solving_by_Genetic_Algorithm.ipynb",
      "provenance": []
    },
    "kernelspec": {
      "display_name": "Python 3",
      "name": "python3"
    },
    "language_info": {
      "name": "python"
    }
  },
  "nbformat": 4,
  "nbformat_minor": 0
}
